{
  "nbformat": 4,
  "nbformat_minor": 0,
  "metadata": {
    "colab": {
      "name": "Job s PCA V1.ipynb",
      "provenance": [],
      "authorship_tag": "ABX9TyOBnjWWA3+xZfaRBxw9e139",
      "include_colab_link": true
    },
    "kernelspec": {
      "name": "python3",
      "display_name": "Python 3"
    }
  },
  "cells": [
    {
      "cell_type": "markdown",
      "metadata": {
        "id": "view-in-github",
        "colab_type": "text"
      },
      "source": [
        "<a href=\"https://colab.research.google.com/github/Santiago8888/Kin/blob/master/Job_s_PCA_V1.ipynb\" target=\"_parent\"><img src=\"https://colab.research.google.com/assets/colab-badge.svg\" alt=\"Open In Colab\"/></a>"
      ]
    },
    {
      "cell_type": "code",
      "metadata": {
        "id": "XdC0nNB_b5fR",
        "colab_type": "code",
        "colab": {
          "base_uri": "https://localhost:8080/",
          "height": 34
        },
        "outputId": "efab594b-b4af-4f31-ae18-f2f1791718cb"
      },
      "source": [
        "from google.colab import drive\n",
        "drive.mount('/content/gdrive')"
      ],
      "execution_count": 2,
      "outputs": [
        {
          "output_type": "stream",
          "text": [
            "Drive already mounted at /content/gdrive; to attempt to forcibly remount, call drive.mount(\"/content/gdrive\", force_remount=True).\n"
          ],
          "name": "stdout"
        }
      ]
    },
    {
      "cell_type": "code",
      "metadata": {
        "id": "zr48TT4scloC",
        "colab_type": "code",
        "colab": {
          "base_uri": "https://localhost:8080/",
          "height": 34
        },
        "outputId": "6bf4287c-dd06-4355-e769-5c149095273f"
      },
      "source": [
        "cd gdrive/My Drive/Dzeta"
      ],
      "execution_count": 3,
      "outputs": [
        {
          "output_type": "stream",
          "text": [
            "/content/gdrive/My Drive/Dzeta\n"
          ],
          "name": "stdout"
        }
      ]
    },
    {
      "cell_type": "code",
      "metadata": {
        "id": "llGVSO_Lct1e",
        "colab_type": "code",
        "colab": {}
      },
      "source": [
        "import json\n",
        "with open('Data/angel_V1.json') as json_file:\n",
        "    data = json.load(json_file)"
      ],
      "execution_count": 0,
      "outputs": []
    },
    {
      "cell_type": "code",
      "metadata": {
        "id": "7EgtbIhycvh_",
        "colab_type": "code",
        "colab": {}
      },
      "source": [
        "import pandas as pd\n",
        "df = pd.DataFrame.from_records(data[1:], columns=data[0])"
      ],
      "execution_count": 0,
      "outputs": []
    },
    {
      "cell_type": "code",
      "metadata": {
        "id": "2bEffRsYc3vI",
        "colab_type": "code",
        "colab": {}
      },
      "source": [
        "descriptions = df['description'].tolist()\n",
        "descriptions = sum(descriptions, [])"
      ],
      "execution_count": 0,
      "outputs": []
    },
    {
      "cell_type": "code",
      "metadata": {
        "id": "QV0w8OSdc6v5",
        "colab_type": "code",
        "colab": {
          "base_uri": "https://localhost:8080/",
          "height": 68
        },
        "outputId": "69f237a9-6b40-47f7-cef3-a3aa2a340883"
      },
      "source": [
        "import nltk\n",
        "import torch\n",
        "import pandas as pd\n",
        "\n",
        "import numpy as np\n",
        "from sklearn.cluster import KMeans\n",
        "\n",
        "#!pip install nmslib \n",
        "import nmslib\n",
        "\n",
        "nltk.download('punkt')"
      ],
      "execution_count": 7,
      "outputs": [
        {
          "output_type": "stream",
          "text": [
            "[nltk_data] Downloading package punkt to /root/nltk_data...\n",
            "[nltk_data]   Package punkt is already up-to-date!\n"
          ],
          "name": "stdout"
        },
        {
          "output_type": "execute_result",
          "data": {
            "text/plain": [
              "True"
            ]
          },
          "metadata": {
            "tags": []
          },
          "execution_count": 7
        }
      ]
    },
    {
      "cell_type": "code",
      "metadata": {
        "id": "7NLSEbWEtA8N",
        "colab_type": "code",
        "colab": {
          "base_uri": "https://localhost:8080/",
          "height": 34
        },
        "outputId": "f15f70c8-4fe1-426b-8822-7673858a3dd7"
      },
      "source": [
        "cd NLP"
      ],
      "execution_count": 9,
      "outputs": [
        {
          "output_type": "stream",
          "text": [
            "/content/gdrive/My Drive/Dzeta/NLP\n"
          ],
          "name": "stdout"
        }
      ]
    },
    {
      "cell_type": "code",
      "metadata": {
        "id": "JLV9wUdFdAUY",
        "colab_type": "code",
        "colab": {
          "base_uri": "https://localhost:8080/",
          "height": 51
        },
        "outputId": "84d4fe66-ee4d-4e1f-9505-c788f38c6c00"
      },
      "source": [
        "from InferSent.models import InferSent\n",
        "model_version = 2\n",
        "MODEL_PATH = \"encoder/infersent%s.pkl\" % model_version\n",
        "params_model = {'bsize': 64, 'word_emb_dim': 300, 'enc_lstm_dim': 2048, 'pool_type': 'max', 'dpout_model': 0.0, 'version': model_version}\n",
        "\n",
        "model = InferSent(params_model)\n",
        "model.load_state_dict(torch.load(MODEL_PATH))\n",
        "\n",
        "W2V_PATH = 'fastText/crawl-300d-2M.vec'\n",
        "model.set_w2v_path(W2V_PATH)\n",
        "model.build_vocab(descriptions, tokenize=True)\n",
        "embeddings = model.encode(sentences=descriptions, tokenize=True)\n"
      ],
      "execution_count": 10,
      "outputs": [
        {
          "output_type": "stream",
          "text": [
            "Found 3245(/3486) words with w2v vectors\n",
            "Vocab size : 3245\n"
          ],
          "name": "stdout"
        }
      ]
    },
    {
      "cell_type": "code",
      "metadata": {
        "id": "3cF0EYNetg3Q",
        "colab_type": "code",
        "colab": {
          "base_uri": "https://localhost:8080/",
          "height": 297
        },
        "outputId": "e1176c26-0712-4df9-e4df-26e2ae46fa7f"
      },
      "source": [
        "df.describe()"
      ],
      "execution_count": 91,
      "outputs": [
        {
          "output_type": "execute_result",
          "data": {
            "text/html": [
              "<div>\n",
              "<style scoped>\n",
              "    .dataframe tbody tr th:only-of-type {\n",
              "        vertical-align: middle;\n",
              "    }\n",
              "\n",
              "    .dataframe tbody tr th {\n",
              "        vertical-align: top;\n",
              "    }\n",
              "\n",
              "    .dataframe thead th {\n",
              "        text-align: right;\n",
              "    }\n",
              "</style>\n",
              "<table border=\"1\" class=\"dataframe\">\n",
              "  <thead>\n",
              "    <tr style=\"text-align: right;\">\n",
              "      <th></th>\n",
              "      <th>id</th>\n",
              "      <th>date</th>\n",
              "      <th>minSalary</th>\n",
              "      <th>maxSalary</th>\n",
              "      <th>minEquity</th>\n",
              "      <th>maxEquity</th>\n",
              "      <th>salary</th>\n",
              "      <th>equity</th>\n",
              "      <th>locationsIdx</th>\n",
              "      <th>applicantsIdx</th>\n",
              "      <th>jobsIdx</th>\n",
              "      <th>isEuro</th>\n",
              "      <th>isPound</th>\n",
              "      <th>latitude</th>\n",
              "      <th>longitude</th>\n",
              "    </tr>\n",
              "  </thead>\n",
              "  <tbody>\n",
              "    <tr>\n",
              "      <th>count</th>\n",
              "      <td>8.300000e+01</td>\n",
              "      <td>8.300000e+01</td>\n",
              "      <td>83.000000</td>\n",
              "      <td>83.000000</td>\n",
              "      <td>83.000000</td>\n",
              "      <td>83.000000</td>\n",
              "      <td>83.000000</td>\n",
              "      <td>83.000000</td>\n",
              "      <td>83.000000</td>\n",
              "      <td>83.000000</td>\n",
              "      <td>83.000000</td>\n",
              "      <td>83.000000</td>\n",
              "      <td>83.000000</td>\n",
              "      <td>76.000000</td>\n",
              "      <td>76.000000</td>\n",
              "    </tr>\n",
              "    <tr>\n",
              "      <th>mean</th>\n",
              "      <td>4.066884e+06</td>\n",
              "      <td>1.573491e+09</td>\n",
              "      <td>0.237070</td>\n",
              "      <td>0.253202</td>\n",
              "      <td>0.044400</td>\n",
              "      <td>0.078217</td>\n",
              "      <td>0.245729</td>\n",
              "      <td>0.066945</td>\n",
              "      <td>1.277108</td>\n",
              "      <td>31.481928</td>\n",
              "      <td>2.469880</td>\n",
              "      <td>0.072289</td>\n",
              "      <td>0.144578</td>\n",
              "      <td>0.637712</td>\n",
              "      <td>0.192234</td>\n",
              "    </tr>\n",
              "    <tr>\n",
              "      <th>std</th>\n",
              "      <td>2.476070e+06</td>\n",
              "      <td>1.570184e+07</td>\n",
              "      <td>0.167929</td>\n",
              "      <td>0.196964</td>\n",
              "      <td>0.131052</td>\n",
              "      <td>0.142226</td>\n",
              "      <td>0.177761</td>\n",
              "      <td>0.134606</td>\n",
              "      <td>1.192591</td>\n",
              "      <td>63.650218</td>\n",
              "      <td>1.921238</td>\n",
              "      <td>0.260540</td>\n",
              "      <td>0.353813</td>\n",
              "      <td>0.244441</td>\n",
              "      <td>0.230007</td>\n",
              "    </tr>\n",
              "    <tr>\n",
              "      <th>min</th>\n",
              "      <td>2.777300e+04</td>\n",
              "      <td>1.508388e+09</td>\n",
              "      <td>0.000000</td>\n",
              "      <td>0.000000</td>\n",
              "      <td>0.000000</td>\n",
              "      <td>0.000000</td>\n",
              "      <td>0.000000</td>\n",
              "      <td>0.000000</td>\n",
              "      <td>0.000000</td>\n",
              "      <td>0.000000</td>\n",
              "      <td>0.000000</td>\n",
              "      <td>0.000000</td>\n",
              "      <td>0.000000</td>\n",
              "      <td>0.000000</td>\n",
              "      <td>0.000000</td>\n",
              "    </tr>\n",
              "    <tr>\n",
              "      <th>25%</th>\n",
              "      <td>1.573026e+06</td>\n",
              "      <td>1.560841e+09</td>\n",
              "      <td>0.131098</td>\n",
              "      <td>0.052632</td>\n",
              "      <td>0.000000</td>\n",
              "      <td>0.000000</td>\n",
              "      <td>0.081921</td>\n",
              "      <td>0.000000</td>\n",
              "      <td>1.000000</td>\n",
              "      <td>2.000000</td>\n",
              "      <td>1.000000</td>\n",
              "      <td>0.000000</td>\n",
              "      <td>0.000000</td>\n",
              "      <td>0.498857</td>\n",
              "      <td>0.002925</td>\n",
              "    </tr>\n",
              "    <tr>\n",
              "      <th>50%</th>\n",
              "      <td>4.399507e+06</td>\n",
              "      <td>1.582071e+09</td>\n",
              "      <td>0.207317</td>\n",
              "      <td>0.263158</td>\n",
              "      <td>0.001000</td>\n",
              "      <td>0.015000</td>\n",
              "      <td>0.265537</td>\n",
              "      <td>0.013333</td>\n",
              "      <td>1.000000</td>\n",
              "      <td>10.000000</td>\n",
              "      <td>2.000000</td>\n",
              "      <td>0.000000</td>\n",
              "      <td>0.000000</td>\n",
              "      <td>0.593278</td>\n",
              "      <td>0.106923</td>\n",
              "    </tr>\n",
              "    <tr>\n",
              "      <th>75%</th>\n",
              "      <td>6.153710e+06</td>\n",
              "      <td>1.585310e+09</td>\n",
              "      <td>0.283537</td>\n",
              "      <td>0.421053</td>\n",
              "      <td>0.020000</td>\n",
              "      <td>0.100000</td>\n",
              "      <td>0.343220</td>\n",
              "      <td>0.073333</td>\n",
              "      <td>1.500000</td>\n",
              "      <td>32.000000</td>\n",
              "      <td>3.000000</td>\n",
              "      <td>0.000000</td>\n",
              "      <td>0.000000</td>\n",
              "      <td>0.924373</td>\n",
              "      <td>0.287661</td>\n",
              "    </tr>\n",
              "    <tr>\n",
              "      <th>max</th>\n",
              "      <td>7.591107e+06</td>\n",
              "      <td>1.585902e+09</td>\n",
              "      <td>1.000000</td>\n",
              "      <td>1.000000</td>\n",
              "      <td>1.000000</td>\n",
              "      <td>1.000000</td>\n",
              "      <td>1.000000</td>\n",
              "      <td>1.000000</td>\n",
              "      <td>7.000000</td>\n",
              "      <td>365.000000</td>\n",
              "      <td>10.000000</td>\n",
              "      <td>1.000000</td>\n",
              "      <td>1.000000</td>\n",
              "      <td>1.000000</td>\n",
              "      <td>1.000000</td>\n",
              "    </tr>\n",
              "  </tbody>\n",
              "</table>\n",
              "</div>"
            ],
            "text/plain": [
              "                 id          date  minSalary  ...    isPound   latitude  longitude\n",
              "count  8.300000e+01  8.300000e+01  83.000000  ...  83.000000  76.000000  76.000000\n",
              "mean   4.066884e+06  1.573491e+09   0.237070  ...   0.144578   0.637712   0.192234\n",
              "std    2.476070e+06  1.570184e+07   0.167929  ...   0.353813   0.244441   0.230007\n",
              "min    2.777300e+04  1.508388e+09   0.000000  ...   0.000000   0.000000   0.000000\n",
              "25%    1.573026e+06  1.560841e+09   0.131098  ...   0.000000   0.498857   0.002925\n",
              "50%    4.399507e+06  1.582071e+09   0.207317  ...   0.000000   0.593278   0.106923\n",
              "75%    6.153710e+06  1.585310e+09   0.283537  ...   0.000000   0.924373   0.287661\n",
              "max    7.591107e+06  1.585902e+09   1.000000  ...   1.000000   1.000000   1.000000\n",
              "\n",
              "[8 rows x 15 columns]"
            ]
          },
          "metadata": {
            "tags": []
          },
          "execution_count": 91
        }
      ]
    },
    {
      "cell_type": "code",
      "metadata": {
        "id": "eCw2bzoRdHq_",
        "colab_type": "code",
        "colab": {}
      },
      "source": [
        "df[\"minSalary\"] = ((df[\"minSalary\"]-df[\"minSalary\"].min())/(df[\"minSalary\"].max()-df[\"minSalary\"].min()))\n",
        "df[\"maxSalary\"] = ((df[\"maxSalary\"]-df[\"maxSalary\"].min())/(df[\"maxSalary\"].max()-df[\"maxSalary\"].min()))\n",
        "df[\"minEquity\"] = ((df[\"minEquity\"]-df[\"minEquity\"].min())/(df[\"minEquity\"].max()-df[\"minEquity\"].min()))\n",
        "df[\"maxEquity\"] = ((df[\"maxEquity\"]-df[\"maxEquity\"].min())/(df[\"maxEquity\"].max()-df[\"maxEquity\"].min()))\n",
        "df[\"salary\"] = ((df[\"salary\"]-df[\"salary\"].min())/(df[\"salary\"].max()-df[\"salary\"].min()))\n",
        "df[\"equity\"] = ((df[\"equity\"]-df[\"equity\"].min())/(df[\"equity\"].max()-df[\"equity\"].min()))\n"
      ],
      "execution_count": 0,
      "outputs": []
    },
    {
      "cell_type": "code",
      "metadata": {
        "id": "rZm7JVaovUzC",
        "colab_type": "code",
        "colab": {}
      },
      "source": [
        "df['isPound'] = df['compensation'].str.contains('£')*1\n",
        "df['isEuro'] = df['compensation'].str.contains('€')*1\n"
      ],
      "execution_count": 0,
      "outputs": []
    },
    {
      "cell_type": "code",
      "metadata": {
        "id": "62Lnjd6fvXv0",
        "colab_type": "code",
        "colab": {
          "base_uri": "https://localhost:8080/",
          "height": 581
        },
        "outputId": "2cda9d46-2dd7-426f-bdad-e3adfe239bb1"
      },
      "source": [
        "df.head()"
      ],
      "execution_count": 58,
      "outputs": [
        {
          "output_type": "execute_result",
          "data": {
            "text/html": [
              "<div>\n",
              "<style scoped>\n",
              "    .dataframe tbody tr th:only-of-type {\n",
              "        vertical-align: middle;\n",
              "    }\n",
              "\n",
              "    .dataframe tbody tr th {\n",
              "        vertical-align: top;\n",
              "    }\n",
              "\n",
              "    .dataframe thead th {\n",
              "        text-align: right;\n",
              "    }\n",
              "</style>\n",
              "<table border=\"1\" class=\"dataframe\">\n",
              "  <thead>\n",
              "    <tr style=\"text-align: right;\">\n",
              "      <th></th>\n",
              "      <th>provider</th>\n",
              "      <th>id</th>\n",
              "      <th>description</th>\n",
              "      <th>date</th>\n",
              "      <th>datePosted</th>\n",
              "      <th>location</th>\n",
              "      <th>title</th>\n",
              "      <th>link</th>\n",
              "      <th>minSalary</th>\n",
              "      <th>maxSalary</th>\n",
              "      <th>minEquity</th>\n",
              "      <th>maxEquity</th>\n",
              "      <th>salary</th>\n",
              "      <th>equity</th>\n",
              "      <th>compensation</th>\n",
              "      <th>name</th>\n",
              "      <th>logo</th>\n",
              "      <th>pitch</th>\n",
              "      <th>size</th>\n",
              "      <th>locationsIdx</th>\n",
              "      <th>applicantsIdx</th>\n",
              "      <th>jobsIdx</th>\n",
              "      <th>isEuro</th>\n",
              "      <th>isPound</th>\n",
              "    </tr>\n",
              "  </thead>\n",
              "  <tbody>\n",
              "    <tr>\n",
              "      <th>0</th>\n",
              "      <td>Angel.co</td>\n",
              "      <td>6243347</td>\n",
              "      <td>[Ubico provides an AI-powered lead engagement ...</td>\n",
              "      <td>1581106732</td>\n",
              "      <td>2020-02-07T20:18:52.000Z</td>\n",
              "      <td>Montreal</td>\n",
              "      <td>Full-Stack Engineer</td>\n",
              "      <td>https://angel.co/company/ubico-mtl/jobs</td>\n",
              "      <td>0.085366</td>\n",
              "      <td>0.026316</td>\n",
              "      <td>0.10</td>\n",
              "      <td>0.150</td>\n",
              "      <td>0.053672</td>\n",
              "      <td>0.133333</td>\n",
              "      <td>$50k – $65k • 0.5% – 1.5%</td>\n",
              "      <td>Ubico</td>\n",
              "      <td>https://photos.angel.co/startups/i/6243347-703...</td>\n",
              "      <td>AI-Powered Lead Engagement Platform</td>\n",
              "      <td>SIZE_11_50</td>\n",
              "      <td>1</td>\n",
              "      <td>3</td>\n",
              "      <td>4</td>\n",
              "      <td>0</td>\n",
              "      <td>0</td>\n",
              "    </tr>\n",
              "    <tr>\n",
              "      <th>1</th>\n",
              "      <td>Angel.co</td>\n",
              "      <td>2742580</td>\n",
              "      <td>[Only applications submitted via https://jobs....</td>\n",
              "      <td>1555718139</td>\n",
              "      <td>2019-04-19T23:55:39.000Z</td>\n",
              "      <td>San Francisco</td>\n",
              "      <td>Software Engineer</td>\n",
              "      <td>https://angel.co/company/roger-ai-1/jobs</td>\n",
              "      <td>0.207317</td>\n",
              "      <td>0.421053</td>\n",
              "      <td>0.00</td>\n",
              "      <td>0.010</td>\n",
              "      <td>0.322034</td>\n",
              "      <td>0.006667</td>\n",
              "      <td>$70k – $140k • 0.0% – 0.1%</td>\n",
              "      <td>Roger</td>\n",
              "      <td>https://photos.angel.co/startups/i/2742580-01a...</td>\n",
              "      <td>Accounting automation tool for SMBs and Accoun...</td>\n",
              "      <td>SIZE_11_50</td>\n",
              "      <td>0</td>\n",
              "      <td>26</td>\n",
              "      <td>0</td>\n",
              "      <td>0</td>\n",
              "      <td>0</td>\n",
              "    </tr>\n",
              "    <tr>\n",
              "      <th>2</th>\n",
              "      <td>Angel.co</td>\n",
              "      <td>5716138</td>\n",
              "      <td>[**About Odyssean**\\r, With over 50 years of c...</td>\n",
              "      <td>1585377380</td>\n",
              "      <td>2020-03-28T06:36:20.000Z</td>\n",
              "      <td>Remote</td>\n",
              "      <td>Backend Engineer</td>\n",
              "      <td>https://angel.co/company/odyssean/jobs</td>\n",
              "      <td>0.146341</td>\n",
              "      <td>0.263158</td>\n",
              "      <td>0.40</td>\n",
              "      <td>0.500</td>\n",
              "      <td>0.209040</td>\n",
              "      <td>0.466667</td>\n",
              "      <td>$60k – $110k • 2.0% – 5.0%</td>\n",
              "      <td>Odyssean</td>\n",
              "      <td>https://photos.angel.co/startups/i/5716138-fe3...</td>\n",
              "      <td>Market making, trading, and digital asset mana...</td>\n",
              "      <td>SIZE_1_10</td>\n",
              "      <td>7</td>\n",
              "      <td>167</td>\n",
              "      <td>3</td>\n",
              "      <td>0</td>\n",
              "      <td>0</td>\n",
              "    </tr>\n",
              "    <tr>\n",
              "      <th>3</th>\n",
              "      <td>Angel.co</td>\n",
              "      <td>5716138</td>\n",
              "      <td>[**About Odyssean**\\r, Odyssean is a digital a...</td>\n",
              "      <td>1585376095</td>\n",
              "      <td>2020-03-28T06:14:55.000Z</td>\n",
              "      <td>New York City</td>\n",
              "      <td>CTO</td>\n",
              "      <td>https://angel.co/company/odyssean/jobs</td>\n",
              "      <td>0.573171</td>\n",
              "      <td>0.684211</td>\n",
              "      <td>1.00</td>\n",
              "      <td>1.000</td>\n",
              "      <td>0.632768</td>\n",
              "      <td>1.000000</td>\n",
              "      <td>$130k – $190k • 5.0% – 10.0%</td>\n",
              "      <td>Odyssean</td>\n",
              "      <td>https://photos.angel.co/startups/i/5716138-fe3...</td>\n",
              "      <td>Market making, trading, and digital asset mana...</td>\n",
              "      <td>SIZE_1_10</td>\n",
              "      <td>7</td>\n",
              "      <td>167</td>\n",
              "      <td>3</td>\n",
              "      <td>0</td>\n",
              "      <td>0</td>\n",
              "    </tr>\n",
              "    <tr>\n",
              "      <th>4</th>\n",
              "      <td>Angel.co</td>\n",
              "      <td>233847</td>\n",
              "      <td>[We are seeking motivated developers who are p...</td>\n",
              "      <td>1551993244</td>\n",
              "      <td>2019-03-07T21:14:04.000Z</td>\n",
              "      <td>Houston</td>\n",
              "      <td>Software Engineer</td>\n",
              "      <td>https://angel.co/company/harvest-exchange/jobs</td>\n",
              "      <td>0.390244</td>\n",
              "      <td>0.315789</td>\n",
              "      <td>0.02</td>\n",
              "      <td>0.025</td>\n",
              "      <td>0.350282</td>\n",
              "      <td>0.023333</td>\n",
              "      <td>$100k – $120k • 0.1% – 0.25%</td>\n",
              "      <td>Harvest Exchange</td>\n",
              "      <td>https://photos.angel.co/startups/i/233847-bc53...</td>\n",
              "      <td>Helping Investors Grow</td>\n",
              "      <td>SIZE_11_50</td>\n",
              "      <td>2</td>\n",
              "      <td>2</td>\n",
              "      <td>2</td>\n",
              "      <td>0</td>\n",
              "      <td>0</td>\n",
              "    </tr>\n",
              "  </tbody>\n",
              "</table>\n",
              "</div>"
            ],
            "text/plain": [
              "   provider       id  ... isEuro  isPound\n",
              "0  Angel.co  6243347  ...      0        0\n",
              "1  Angel.co  2742580  ...      0        0\n",
              "2  Angel.co  5716138  ...      0        0\n",
              "3  Angel.co  5716138  ...      0        0\n",
              "4  Angel.co   233847  ...      0        0\n",
              "\n",
              "[5 rows x 24 columns]"
            ]
          },
          "metadata": {
            "tags": []
          },
          "execution_count": 58
        }
      ]
    },
    {
      "cell_type": "code",
      "metadata": {
        "id": "HVW5I-ulw7Dv",
        "colab_type": "code",
        "colab": {}
      },
      "source": [
        "df_locations = df.location.unique()"
      ],
      "execution_count": 0,
      "outputs": []
    },
    {
      "cell_type": "code",
      "metadata": {
        "id": "lPhm2zttyFDQ",
        "colab_type": "code",
        "colab": {}
      },
      "source": [
        "with open('Data/locations.json') as json_file:\n",
        "    locations = json.load(json_file)"
      ],
      "execution_count": 0,
      "outputs": []
    },
    {
      "cell_type": "code",
      "metadata": {
        "id": "vVrHJPoZ4Vum",
        "colab_type": "code",
        "colab": {
          "base_uri": "https://localhost:8080/",
          "height": 510
        },
        "outputId": "e5ee5aa0-a31d-4cf5-b8dc-d1e1f619446f"
      },
      "source": [
        "for d in df_locations: print(locations[d])"
      ],
      "execution_count": 67,
      "outputs": [
        {
          "output_type": "stream",
          "text": [
            "[45.4972159, -73.6103642]\n",
            "[37.7790262, -122.4199061]\n",
            "[None, None]\n",
            "[40.7127281, -74.0060152]\n",
            "[29.7589382, -95.3676974]\n",
            "[42.4979693, -92.3329637]\n",
            "[34.0536909, -118.2427666]\n",
            "[51.5073219, -0.1276474]\n",
            "[43.6534817, -79.3839347]\n",
            "[51, 10]\n",
            "[39.7392364, -104.9848623]\n",
            "[22.2793278, 114.1628131]\n",
            "[34.0211224, -118.3964665]\n",
            "[30.2711286, -97.7436995]\n",
            "[25.7742658, -80.1936589]\n",
            "[37.4429964, -122.1545229]\n",
            "[37.7274692, -89.216655]\n",
            "[53.3497645, -6.2602732]\n",
            "[51.0534234, -114.0625892]\n",
            "[37.2333253, -121.6846349]\n",
            "[52.5170365, 13.3888599]\n",
            "[32.7174209, -117.1627714]\n",
            "[50.8220399, -0.1374061]\n",
            "[42.3602534, -71.0582912]\n",
            "[40.748736, -73.98486]\n",
            "[49.2608724, -123.1139529]\n",
            "[48.8566969, 2.3514616]\n",
            "[51.0000002, -109.0000002]\n",
            "[47.6038321, -122.3300624]\n"
          ],
          "name": "stdout"
        }
      ]
    },
    {
      "cell_type": "code",
      "metadata": {
        "id": "hwGwAmvG4WzS",
        "colab_type": "code",
        "colab": {}
      },
      "source": [
        "df['latitude'] = [locations[d][0] for d in df['location']]\n",
        "df['longitude'] = [locations[d][1] for d in df['location']]"
      ],
      "execution_count": 0,
      "outputs": []
    },
    {
      "cell_type": "code",
      "metadata": {
        "id": "K9e4gSZy5x5m",
        "colab_type": "code",
        "colab": {}
      },
      "source": [
        "df[\"latitude\"] = ((df[\"latitude\"]-df[\"latitude\"].min())/(df[\"latitude\"].max()-df[\"latitude\"].min()))\n",
        "df[\"longitude\"] = ((df[\"longitude\"]-df[\"longitude\"].min())/(df[\"longitude\"].max()-df[\"longitude\"].min()))"
      ],
      "execution_count": 0,
      "outputs": []
    },
    {
      "cell_type": "code",
      "metadata": {
        "id": "_BR1WFQ66lm-",
        "colab_type": "code",
        "colab": {}
      },
      "source": [
        ""
      ],
      "execution_count": 0,
      "outputs": []
    },
    {
      "cell_type": "code",
      "metadata": {
        "id": "IitRZ-Hi74My",
        "colab_type": "code",
        "colab": {}
      },
      "source": [
        ""
      ],
      "execution_count": 0,
      "outputs": []
    }
  ]
}