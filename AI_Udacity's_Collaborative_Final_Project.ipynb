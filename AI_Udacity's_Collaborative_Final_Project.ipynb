{
  "nbformat": 4,
  "nbformat_minor": 0,
  "metadata": {
    "colab": {
      "name": "AI Udacity's Collaborative Final Project.ipynb",
      "version": "0.3.2",
      "provenance": [],
      "include_colab_link": true
    },
    "kernelspec": {
      "name": "python3",
      "display_name": "Python 3"
    }
  },
  "cells": [
    {
      "cell_type": "markdown",
      "metadata": {
        "id": "view-in-github",
        "colab_type": "text"
      },
      "source": [
        "<a href=\"https://colab.research.google.com/github/Santiago8888/Kin/blob/dev/AI_Udacity's_Collaborative_Final_Project.ipynb\" target=\"_parent\"><img src=\"https://colab.research.google.com/assets/colab-badge.svg\" alt=\"Open In Colab\"/></a>"
      ]
    },
    {
      "cell_type": "markdown",
      "metadata": {
        "id": "SJ1sMKl1rmEy",
        "colab_type": "text"
      },
      "source": [
        "Following Lecture's 6.6 Final Proyect Descrtiption, hereby we present a proposed path to fulfill the requirements:\n",
        "\n",
        "**1) Train the dataset.**\n",
        "\n",
        "\n",
        "**2) Introduce Local Differential Privacy. (Noise on random data entries)**\n",
        "\n",
        "2.1) Extend Udacity Noise Induction Method to allow labeling data with 10 different values..\n",
        "\n",
        "2.2) Define an initial noise paramenter.\n",
        "\n",
        "2.3) Normalize database following noise parameter and extension of random labels (from 2 to 10).\n",
        "\n",
        "\n",
        "\n",
        "**3) Fine tunning and Optimization**\n",
        "\n",
        "3.1) Validate Results through Corss-Validation.\n",
        "\n",
        "3.2) Adjust Noise Parameter\n",
        "\n",
        "3.3) Graph Model's Accuracy for different values of the Noise Parameter.\n",
        "\n",
        "3.4) Find Sweet-Spot for Noise Parameter\n",
        "\n",
        "\n",
        "\n",
        "**4) Test against second public dataset**\n",
        "\n",
        "**5) Publish Results** \n"
      ]
    }
  ]
}