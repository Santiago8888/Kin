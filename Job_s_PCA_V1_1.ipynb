{
  "nbformat": 4,
  "nbformat_minor": 0,
  "metadata": {
    "colab": {
      "name": "Job s PCA V1.1.ipynb",
      "provenance": [],
      "authorship_tag": "ABX9TyNCJmKC5riyeKOtk8KiVwgE",
      "include_colab_link": true
    },
    "kernelspec": {
      "name": "python3",
      "display_name": "Python 3"
    }
  },
  "cells": [
    {
      "cell_type": "markdown",
      "metadata": {
        "id": "view-in-github",
        "colab_type": "text"
      },
      "source": [
        "<a href=\"https://colab.research.google.com/github/Santiago8888/Kin/blob/master/Job_s_PCA_V1_1.ipynb\" target=\"_parent\"><img src=\"https://colab.research.google.com/assets/colab-badge.svg\" alt=\"Open In Colab\"/></a>"
      ]
    },
    {
      "cell_type": "markdown",
      "metadata": {
        "id": "WQOLHTa8OrHC",
        "colab_type": "text"
      },
      "source": [
        "## Setup Environment"
      ]
    },
    {
      "cell_type": "code",
      "metadata": {
        "id": "XdC0nNB_b5fR",
        "colab_type": "code",
        "outputId": "5a7425ce-6244-48ef-b9ee-2bcd1a9d4d1d",
        "colab": {
          "base_uri": "https://localhost:8080/",
          "height": 122
        }
      },
      "source": [
        "from google.colab import drive\n",
        "drive.mount('/content/gdrive')"
      ],
      "execution_count": 1,
      "outputs": [
        {
          "output_type": "stream",
          "text": [
            "Go to this URL in a browser: https://accounts.google.com/o/oauth2/auth?client_id=947318989803-6bn6qk8qdgf4n4g3pfee6491hc0brc4i.apps.googleusercontent.com&redirect_uri=urn%3aietf%3awg%3aoauth%3a2.0%3aoob&response_type=code&scope=email%20https%3a%2f%2fwww.googleapis.com%2fauth%2fdocs.test%20https%3a%2f%2fwww.googleapis.com%2fauth%2fdrive%20https%3a%2f%2fwww.googleapis.com%2fauth%2fdrive.photos.readonly%20https%3a%2f%2fwww.googleapis.com%2fauth%2fpeopleapi.readonly\n",
            "\n",
            "Enter your authorization code:\n",
            "··········\n",
            "Mounted at /content/gdrive\n"
          ],
          "name": "stdout"
        }
      ]
    },
    {
      "cell_type": "code",
      "metadata": {
        "id": "zr48TT4scloC",
        "colab_type": "code",
        "colab": {}
      },
      "source": [
        "cd gdrive/My Drive/Dzeta"
      ],
      "execution_count": 0,
      "outputs": []
    },
    {
      "cell_type": "code",
      "metadata": {
        "id": "llGVSO_Lct1e",
        "colab_type": "code",
        "colab": {}
      },
      "source": [
        "import json\n",
        "with open('Data/angel_V1.json') as json_file:\n",
        "    data = json.load(json_file)"
      ],
      "execution_count": 0,
      "outputs": []
    },
    {
      "cell_type": "code",
      "metadata": {
        "id": "7EgtbIhycvh_",
        "colab_type": "code",
        "colab": {}
      },
      "source": [
        "import pandas as pd\n",
        "df = pd.DataFrame.from_records(data[1:], columns=data[0])"
      ],
      "execution_count": 0,
      "outputs": []
    },
    {
      "cell_type": "code",
      "metadata": {
        "id": "2bEffRsYc3vI",
        "colab_type": "code",
        "colab": {}
      },
      "source": [
        "descriptions = df['description'].tolist()\n",
        "descriptions = sum(descriptions, [])"
      ],
      "execution_count": 0,
      "outputs": []
    },
    {
      "cell_type": "code",
      "metadata": {
        "id": "QV0w8OSdc6v5",
        "colab_type": "code",
        "outputId": "eae5c06f-4a10-434d-a0d9-a6609decdba6",
        "colab": {
          "base_uri": "https://localhost:8080/",
          "height": 238
        }
      },
      "source": [
        "import nltk\n",
        "import torch\n",
        "import pandas as pd\n",
        "\n",
        "import numpy as np\n",
        "from sklearn.cluster import KMeans\n",
        "\n",
        "!pip install nmslib \n",
        "import nmslib\n",
        "\n",
        "nltk.download('punkt')"
      ],
      "execution_count": 8,
      "outputs": [
        {
          "output_type": "stream",
          "text": [
            "Collecting nmslib\n",
            "\u001b[?25l  Downloading https://files.pythonhosted.org/packages/b5/5a/4824e7c2803db7fd9b1dbc0de9075bd552e85f4c69c6c054160f7ec92158/nmslib-2.0.5-cp36-cp36m-manylinux2010_x86_64.whl (12.9MB)\n",
            "\u001b[K     |████████████████████████████████| 13.0MB 320kB/s \n",
            "\u001b[?25hRequirement already satisfied: psutil in /usr/local/lib/python3.6/dist-packages (from nmslib) (5.4.8)\n",
            "Collecting pybind11>=2.2.3\n",
            "\u001b[?25l  Downloading https://files.pythonhosted.org/packages/89/e3/d576f6f02bc75bacbc3d42494e8f1d063c95617d86648dba243c2cb3963e/pybind11-2.5.0-py2.py3-none-any.whl (296kB)\n",
            "\u001b[K     |████████████████████████████████| 296kB 51.5MB/s \n",
            "\u001b[?25hRequirement already satisfied: numpy>=1.10.0 in /usr/local/lib/python3.6/dist-packages (from nmslib) (1.18.2)\n",
            "Installing collected packages: pybind11, nmslib\n",
            "Successfully installed nmslib-2.0.5 pybind11-2.5.0\n",
            "[nltk_data] Downloading package punkt to /root/nltk_data...\n",
            "[nltk_data]   Unzipping tokenizers/punkt.zip.\n"
          ],
          "name": "stdout"
        },
        {
          "output_type": "execute_result",
          "data": {
            "text/plain": [
              "True"
            ]
          },
          "metadata": {
            "tags": []
          },
          "execution_count": 8
        }
      ]
    },
    {
      "cell_type": "code",
      "metadata": {
        "id": "7NLSEbWEtA8N",
        "colab_type": "code",
        "outputId": "653a94ad-b66c-400f-c4c6-230ae10114b4",
        "colab": {
          "base_uri": "https://localhost:8080/",
          "height": 34
        }
      },
      "source": [
        "cd NLP"
      ],
      "execution_count": 9,
      "outputs": [
        {
          "output_type": "stream",
          "text": [
            "/content/gdrive/My Drive/Dzeta/NLP\n"
          ],
          "name": "stdout"
        }
      ]
    },
    {
      "cell_type": "code",
      "metadata": {
        "id": "JLV9wUdFdAUY",
        "colab_type": "code",
        "outputId": "1416c69d-b143-4b70-a174-3073f0261573",
        "colab": {
          "base_uri": "https://localhost:8080/",
          "height": 51
        }
      },
      "source": [
        "from InferSent.models import InferSent\n",
        "model_version = 2\n",
        "MODEL_PATH = \"encoder/infersent%s.pkl\" % model_version\n",
        "params_model = {'bsize': 64, 'word_emb_dim': 300, 'enc_lstm_dim': 2048, 'pool_type': 'max', 'dpout_model': 0.0, 'version': model_version}\n",
        "\n",
        "model = InferSent(params_model)\n",
        "model.load_state_dict(torch.load(MODEL_PATH))\n",
        "\n",
        "W2V_PATH = 'fastText/crawl-300d-2M.vec'\n",
        "model.set_w2v_path(W2V_PATH)\n",
        "model.build_vocab(descriptions, tokenize=True)\n",
        "embeddings = model.encode(sentences=descriptions, tokenize=True)\n"
      ],
      "execution_count": 10,
      "outputs": [
        {
          "output_type": "stream",
          "text": [
            "Found 3245(/3486) words with w2v vectors\n",
            "Vocab size : 3245\n"
          ],
          "name": "stdout"
        }
      ]
    },
    {
      "cell_type": "code",
      "metadata": {
        "id": "3cF0EYNetg3Q",
        "colab_type": "code",
        "outputId": "eebabc0b-967f-4540-ca0b-46074125a9d2",
        "colab": {
          "base_uri": "https://localhost:8080/",
          "height": 297
        }
      },
      "source": [
        "df.describe()"
      ],
      "execution_count": 14,
      "outputs": [
        {
          "output_type": "execute_result",
          "data": {
            "text/html": [
              "<div>\n",
              "<style scoped>\n",
              "    .dataframe tbody tr th:only-of-type {\n",
              "        vertical-align: middle;\n",
              "    }\n",
              "\n",
              "    .dataframe tbody tr th {\n",
              "        vertical-align: top;\n",
              "    }\n",
              "\n",
              "    .dataframe thead th {\n",
              "        text-align: right;\n",
              "    }\n",
              "</style>\n",
              "<table border=\"1\" class=\"dataframe\">\n",
              "  <thead>\n",
              "    <tr style=\"text-align: right;\">\n",
              "      <th></th>\n",
              "      <th>id</th>\n",
              "      <th>date</th>\n",
              "      <th>minSalary</th>\n",
              "      <th>maxSalary</th>\n",
              "      <th>minEquity</th>\n",
              "      <th>maxEquity</th>\n",
              "      <th>salary</th>\n",
              "      <th>equity</th>\n",
              "      <th>locationsIdx</th>\n",
              "      <th>applicantsIdx</th>\n",
              "      <th>jobsIdx</th>\n",
              "      <th>isPound</th>\n",
              "      <th>isEuro</th>\n",
              "    </tr>\n",
              "  </thead>\n",
              "  <tbody>\n",
              "    <tr>\n",
              "      <th>count</th>\n",
              "      <td>8.300000e+01</td>\n",
              "      <td>8.300000e+01</td>\n",
              "      <td>83.000000</td>\n",
              "      <td>83.000000</td>\n",
              "      <td>83.000000</td>\n",
              "      <td>83.000000</td>\n",
              "      <td>83.000000</td>\n",
              "      <td>83.000000</td>\n",
              "      <td>83.000000</td>\n",
              "      <td>83.000000</td>\n",
              "      <td>83.000000</td>\n",
              "      <td>83.000000</td>\n",
              "      <td>83.000000</td>\n",
              "    </tr>\n",
              "    <tr>\n",
              "      <th>mean</th>\n",
              "      <td>4.066884e+06</td>\n",
              "      <td>1.573491e+09</td>\n",
              "      <td>0.237070</td>\n",
              "      <td>0.253202</td>\n",
              "      <td>0.044400</td>\n",
              "      <td>0.078217</td>\n",
              "      <td>0.245729</td>\n",
              "      <td>0.066945</td>\n",
              "      <td>1.277108</td>\n",
              "      <td>31.481928</td>\n",
              "      <td>2.469880</td>\n",
              "      <td>0.144578</td>\n",
              "      <td>0.072289</td>\n",
              "    </tr>\n",
              "    <tr>\n",
              "      <th>std</th>\n",
              "      <td>2.476070e+06</td>\n",
              "      <td>1.570184e+07</td>\n",
              "      <td>0.167929</td>\n",
              "      <td>0.196964</td>\n",
              "      <td>0.131052</td>\n",
              "      <td>0.142226</td>\n",
              "      <td>0.177761</td>\n",
              "      <td>0.134606</td>\n",
              "      <td>1.192591</td>\n",
              "      <td>63.650218</td>\n",
              "      <td>1.921238</td>\n",
              "      <td>0.353813</td>\n",
              "      <td>0.260540</td>\n",
              "    </tr>\n",
              "    <tr>\n",
              "      <th>min</th>\n",
              "      <td>2.777300e+04</td>\n",
              "      <td>1.508388e+09</td>\n",
              "      <td>0.000000</td>\n",
              "      <td>0.000000</td>\n",
              "      <td>0.000000</td>\n",
              "      <td>0.000000</td>\n",
              "      <td>0.000000</td>\n",
              "      <td>0.000000</td>\n",
              "      <td>0.000000</td>\n",
              "      <td>0.000000</td>\n",
              "      <td>0.000000</td>\n",
              "      <td>0.000000</td>\n",
              "      <td>0.000000</td>\n",
              "    </tr>\n",
              "    <tr>\n",
              "      <th>25%</th>\n",
              "      <td>1.573026e+06</td>\n",
              "      <td>1.560841e+09</td>\n",
              "      <td>0.131098</td>\n",
              "      <td>0.052632</td>\n",
              "      <td>0.000000</td>\n",
              "      <td>0.000000</td>\n",
              "      <td>0.081921</td>\n",
              "      <td>0.000000</td>\n",
              "      <td>1.000000</td>\n",
              "      <td>2.000000</td>\n",
              "      <td>1.000000</td>\n",
              "      <td>0.000000</td>\n",
              "      <td>0.000000</td>\n",
              "    </tr>\n",
              "    <tr>\n",
              "      <th>50%</th>\n",
              "      <td>4.399507e+06</td>\n",
              "      <td>1.582071e+09</td>\n",
              "      <td>0.207317</td>\n",
              "      <td>0.263158</td>\n",
              "      <td>0.001000</td>\n",
              "      <td>0.015000</td>\n",
              "      <td>0.265537</td>\n",
              "      <td>0.013333</td>\n",
              "      <td>1.000000</td>\n",
              "      <td>10.000000</td>\n",
              "      <td>2.000000</td>\n",
              "      <td>0.000000</td>\n",
              "      <td>0.000000</td>\n",
              "    </tr>\n",
              "    <tr>\n",
              "      <th>75%</th>\n",
              "      <td>6.153710e+06</td>\n",
              "      <td>1.585310e+09</td>\n",
              "      <td>0.283537</td>\n",
              "      <td>0.421053</td>\n",
              "      <td>0.020000</td>\n",
              "      <td>0.100000</td>\n",
              "      <td>0.343220</td>\n",
              "      <td>0.073333</td>\n",
              "      <td>1.500000</td>\n",
              "      <td>32.000000</td>\n",
              "      <td>3.000000</td>\n",
              "      <td>0.000000</td>\n",
              "      <td>0.000000</td>\n",
              "    </tr>\n",
              "    <tr>\n",
              "      <th>max</th>\n",
              "      <td>7.591107e+06</td>\n",
              "      <td>1.585902e+09</td>\n",
              "      <td>1.000000</td>\n",
              "      <td>1.000000</td>\n",
              "      <td>1.000000</td>\n",
              "      <td>1.000000</td>\n",
              "      <td>1.000000</td>\n",
              "      <td>1.000000</td>\n",
              "      <td>7.000000</td>\n",
              "      <td>365.000000</td>\n",
              "      <td>10.000000</td>\n",
              "      <td>1.000000</td>\n",
              "      <td>1.000000</td>\n",
              "    </tr>\n",
              "  </tbody>\n",
              "</table>\n",
              "</div>"
            ],
            "text/plain": [
              "                 id          date  minSalary  ...    jobsIdx    isPound     isEuro\n",
              "count  8.300000e+01  8.300000e+01  83.000000  ...  83.000000  83.000000  83.000000\n",
              "mean   4.066884e+06  1.573491e+09   0.237070  ...   2.469880   0.144578   0.072289\n",
              "std    2.476070e+06  1.570184e+07   0.167929  ...   1.921238   0.353813   0.260540\n",
              "min    2.777300e+04  1.508388e+09   0.000000  ...   0.000000   0.000000   0.000000\n",
              "25%    1.573026e+06  1.560841e+09   0.131098  ...   1.000000   0.000000   0.000000\n",
              "50%    4.399507e+06  1.582071e+09   0.207317  ...   2.000000   0.000000   0.000000\n",
              "75%    6.153710e+06  1.585310e+09   0.283537  ...   3.000000   0.000000   0.000000\n",
              "max    7.591107e+06  1.585902e+09   1.000000  ...  10.000000   1.000000   1.000000\n",
              "\n",
              "[8 rows x 13 columns]"
            ]
          },
          "metadata": {
            "tags": []
          },
          "execution_count": 14
        }
      ]
    },
    {
      "cell_type": "code",
      "metadata": {
        "id": "eCw2bzoRdHq_",
        "colab_type": "code",
        "colab": {}
      },
      "source": [
        "df[\"minSalary\"] = ((df[\"minSalary\"]-df[\"minSalary\"].min())/(df[\"minSalary\"].max()-df[\"minSalary\"].min()))\n",
        "df[\"maxSalary\"] = ((df[\"maxSalary\"]-df[\"maxSalary\"].min())/(df[\"maxSalary\"].max()-df[\"maxSalary\"].min()))\n",
        "df[\"minEquity\"] = ((df[\"minEquity\"]-df[\"minEquity\"].min())/(df[\"minEquity\"].max()-df[\"minEquity\"].min()))\n",
        "df[\"maxEquity\"] = ((df[\"maxEquity\"]-df[\"maxEquity\"].min())/(df[\"maxEquity\"].max()-df[\"maxEquity\"].min()))\n",
        "df[\"salary\"] = ((df[\"salary\"]-df[\"salary\"].min())/(df[\"salary\"].max()-df[\"salary\"].min()))\n",
        "df[\"equity\"] = ((df[\"equity\"]-df[\"equity\"].min())/(df[\"equity\"].max()-df[\"equity\"].min()))\n"
      ],
      "execution_count": 0,
      "outputs": []
    },
    {
      "cell_type": "code",
      "metadata": {
        "id": "rZm7JVaovUzC",
        "colab_type": "code",
        "colab": {}
      },
      "source": [
        "df['isPound'] = df['compensation'].str.contains('£')*1\n",
        "df['isEuro'] = df['compensation'].str.contains('€')*1\n"
      ],
      "execution_count": 0,
      "outputs": []
    },
    {
      "cell_type": "code",
      "metadata": {
        "id": "62Lnjd6fvXv0",
        "colab_type": "code",
        "outputId": "fabc0d3f-e58d-4c40-f950-ab75c311de1d",
        "colab": {
          "base_uri": "https://localhost:8080/",
          "height": 581
        }
      },
      "source": [
        "df.head()"
      ],
      "execution_count": 21,
      "outputs": [
        {
          "output_type": "execute_result",
          "data": {
            "text/html": [
              "<div>\n",
              "<style scoped>\n",
              "    .dataframe tbody tr th:only-of-type {\n",
              "        vertical-align: middle;\n",
              "    }\n",
              "\n",
              "    .dataframe tbody tr th {\n",
              "        vertical-align: top;\n",
              "    }\n",
              "\n",
              "    .dataframe thead th {\n",
              "        text-align: right;\n",
              "    }\n",
              "</style>\n",
              "<table border=\"1\" class=\"dataframe\">\n",
              "  <thead>\n",
              "    <tr style=\"text-align: right;\">\n",
              "      <th></th>\n",
              "      <th>provider</th>\n",
              "      <th>id</th>\n",
              "      <th>description</th>\n",
              "      <th>date</th>\n",
              "      <th>datePosted</th>\n",
              "      <th>location</th>\n",
              "      <th>title</th>\n",
              "      <th>link</th>\n",
              "      <th>minSalary</th>\n",
              "      <th>maxSalary</th>\n",
              "      <th>minEquity</th>\n",
              "      <th>maxEquity</th>\n",
              "      <th>salary</th>\n",
              "      <th>equity</th>\n",
              "      <th>compensation</th>\n",
              "      <th>name</th>\n",
              "      <th>logo</th>\n",
              "      <th>pitch</th>\n",
              "      <th>size</th>\n",
              "      <th>locationsIdx</th>\n",
              "      <th>applicantsIdx</th>\n",
              "      <th>jobsIdx</th>\n",
              "      <th>isPound</th>\n",
              "      <th>isEuro</th>\n",
              "      <th>Coords</th>\n",
              "      <th>latitude</th>\n",
              "      <th>longitude</th>\n",
              "    </tr>\n",
              "  </thead>\n",
              "  <tbody>\n",
              "    <tr>\n",
              "      <th>0</th>\n",
              "      <td>Angel.co</td>\n",
              "      <td>6243347</td>\n",
              "      <td>[Ubico provides an AI-powered lead engagement ...</td>\n",
              "      <td>1581106732</td>\n",
              "      <td>2020-02-07T20:18:52.000Z</td>\n",
              "      <td>Montreal</td>\n",
              "      <td>Full-Stack Engineer</td>\n",
              "      <td>https://angel.co/company/ubico-mtl/jobs</td>\n",
              "      <td>0.085366</td>\n",
              "      <td>0.026316</td>\n",
              "      <td>0.10</td>\n",
              "      <td>0.150</td>\n",
              "      <td>0.053672</td>\n",
              "      <td>0.133333</td>\n",
              "      <td>$50k – $65k • 0.5% – 1.5%</td>\n",
              "      <td>Ubico</td>\n",
              "      <td>https://photos.angel.co/startups/i/6243347-703...</td>\n",
              "      <td>AI-Powered Lead Engagement Platform</td>\n",
              "      <td>SIZE_11_50</td>\n",
              "      <td>1</td>\n",
              "      <td>3</td>\n",
              "      <td>4</td>\n",
              "      <td>0</td>\n",
              "      <td>0</td>\n",
              "      <td>[45.4972159, -73.6103642]</td>\n",
              "      <td>0.747266</td>\n",
              "      <td>0.208632</td>\n",
              "    </tr>\n",
              "    <tr>\n",
              "      <th>1</th>\n",
              "      <td>Angel.co</td>\n",
              "      <td>2742580</td>\n",
              "      <td>[Only applications submitted via https://jobs....</td>\n",
              "      <td>1555718139</td>\n",
              "      <td>2019-04-19T23:55:39.000Z</td>\n",
              "      <td>San Francisco</td>\n",
              "      <td>Software Engineer</td>\n",
              "      <td>https://angel.co/company/roger-ai-1/jobs</td>\n",
              "      <td>0.207317</td>\n",
              "      <td>0.421053</td>\n",
              "      <td>0.00</td>\n",
              "      <td>0.010</td>\n",
              "      <td>0.322034</td>\n",
              "      <td>0.006667</td>\n",
              "      <td>$70k – $140k • 0.0% – 0.1%</td>\n",
              "      <td>Roger</td>\n",
              "      <td>https://photos.angel.co/startups/i/2742580-01a...</td>\n",
              "      <td>Accounting automation tool for SMBs and Accoun...</td>\n",
              "      <td>SIZE_11_50</td>\n",
              "      <td>0</td>\n",
              "      <td>26</td>\n",
              "      <td>0</td>\n",
              "      <td>0</td>\n",
              "      <td>0</td>\n",
              "      <td>[37.7790262, -122.4199061]</td>\n",
              "      <td>0.498857</td>\n",
              "      <td>0.002925</td>\n",
              "    </tr>\n",
              "    <tr>\n",
              "      <th>2</th>\n",
              "      <td>Angel.co</td>\n",
              "      <td>5716138</td>\n",
              "      <td>[**About Odyssean**\\r, With over 50 years of c...</td>\n",
              "      <td>1585377380</td>\n",
              "      <td>2020-03-28T06:36:20.000Z</td>\n",
              "      <td>Remote</td>\n",
              "      <td>Backend Engineer</td>\n",
              "      <td>https://angel.co/company/odyssean/jobs</td>\n",
              "      <td>0.146341</td>\n",
              "      <td>0.263158</td>\n",
              "      <td>0.40</td>\n",
              "      <td>0.500</td>\n",
              "      <td>0.209040</td>\n",
              "      <td>0.466667</td>\n",
              "      <td>$60k – $110k • 2.0% – 5.0%</td>\n",
              "      <td>Odyssean</td>\n",
              "      <td>https://photos.angel.co/startups/i/5716138-fe3...</td>\n",
              "      <td>Market making, trading, and digital asset mana...</td>\n",
              "      <td>SIZE_1_10</td>\n",
              "      <td>7</td>\n",
              "      <td>167</td>\n",
              "      <td>3</td>\n",
              "      <td>0</td>\n",
              "      <td>0</td>\n",
              "      <td>[None, None]</td>\n",
              "      <td>NaN</td>\n",
              "      <td>NaN</td>\n",
              "    </tr>\n",
              "    <tr>\n",
              "      <th>3</th>\n",
              "      <td>Angel.co</td>\n",
              "      <td>5716138</td>\n",
              "      <td>[**About Odyssean**\\r, Odyssean is a digital a...</td>\n",
              "      <td>1585376095</td>\n",
              "      <td>2020-03-28T06:14:55.000Z</td>\n",
              "      <td>New York City</td>\n",
              "      <td>CTO</td>\n",
              "      <td>https://angel.co/company/odyssean/jobs</td>\n",
              "      <td>0.573171</td>\n",
              "      <td>0.684211</td>\n",
              "      <td>1.00</td>\n",
              "      <td>1.000</td>\n",
              "      <td>0.632768</td>\n",
              "      <td>1.000000</td>\n",
              "      <td>$130k – $190k • 5.0% – 10.0%</td>\n",
              "      <td>Odyssean</td>\n",
              "      <td>https://photos.angel.co/startups/i/5716138-fe3...</td>\n",
              "      <td>Market making, trading, and digital asset mana...</td>\n",
              "      <td>SIZE_1_10</td>\n",
              "      <td>7</td>\n",
              "      <td>167</td>\n",
              "      <td>3</td>\n",
              "      <td>0</td>\n",
              "      <td>0</td>\n",
              "      <td>[40.7127281, -74.0060152]</td>\n",
              "      <td>0.593278</td>\n",
              "      <td>0.206965</td>\n",
              "    </tr>\n",
              "    <tr>\n",
              "      <th>4</th>\n",
              "      <td>Angel.co</td>\n",
              "      <td>233847</td>\n",
              "      <td>[We are seeking motivated developers who are p...</td>\n",
              "      <td>1551993244</td>\n",
              "      <td>2019-03-07T21:14:04.000Z</td>\n",
              "      <td>Houston</td>\n",
              "      <td>Software Engineer</td>\n",
              "      <td>https://angel.co/company/harvest-exchange/jobs</td>\n",
              "      <td>0.390244</td>\n",
              "      <td>0.315789</td>\n",
              "      <td>0.02</td>\n",
              "      <td>0.025</td>\n",
              "      <td>0.350282</td>\n",
              "      <td>0.023333</td>\n",
              "      <td>$100k – $120k • 0.1% – 0.25%</td>\n",
              "      <td>Harvest Exchange</td>\n",
              "      <td>https://photos.angel.co/startups/i/233847-bc53...</td>\n",
              "      <td>Helping Investors Grow</td>\n",
              "      <td>SIZE_11_50</td>\n",
              "      <td>2</td>\n",
              "      <td>2</td>\n",
              "      <td>2</td>\n",
              "      <td>0</td>\n",
              "      <td>0</td>\n",
              "      <td>[29.7589382, -95.3676974]</td>\n",
              "      <td>0.240731</td>\n",
              "      <td>0.116936</td>\n",
              "    </tr>\n",
              "  </tbody>\n",
              "</table>\n",
              "</div>"
            ],
            "text/plain": [
              "   provider       id  ...  latitude  longitude\n",
              "0  Angel.co  6243347  ...  0.747266   0.208632\n",
              "1  Angel.co  2742580  ...  0.498857   0.002925\n",
              "2  Angel.co  5716138  ...       NaN        NaN\n",
              "3  Angel.co  5716138  ...  0.593278   0.206965\n",
              "4  Angel.co   233847  ...  0.240731   0.116936\n",
              "\n",
              "[5 rows x 27 columns]"
            ]
          },
          "metadata": {
            "tags": []
          },
          "execution_count": 21
        }
      ]
    },
    {
      "cell_type": "code",
      "metadata": {
        "id": "HVW5I-ulw7Dv",
        "colab_type": "code",
        "colab": {}
      },
      "source": [
        "df_locations = df.location.unique()"
      ],
      "execution_count": 0,
      "outputs": []
    },
    {
      "cell_type": "code",
      "metadata": {
        "id": "lPhm2zttyFDQ",
        "colab_type": "code",
        "colab": {}
      },
      "source": [
        "with open('Data/locations.json') as json_file:\n",
        "    locations = json.load(json_file)"
      ],
      "execution_count": 0,
      "outputs": []
    },
    {
      "cell_type": "code",
      "metadata": {
        "id": "hwGwAmvG4WzS",
        "colab_type": "code",
        "colab": {}
      },
      "source": [
        "df['Coords'] = [[locations[d][0], locations[d][1]] for d in df['location']]\n",
        "df['latitude'] = [locations[d][0] for d in df['location']]\n",
        "df['longitude'] = [locations[d][1] for d in df['location']]"
      ],
      "execution_count": 0,
      "outputs": []
    },
    {
      "cell_type": "code",
      "metadata": {
        "id": "K9e4gSZy5x5m",
        "colab_type": "code",
        "colab": {}
      },
      "source": [
        "df[\"latitude\"] = ((df[\"latitude\"]-df[\"latitude\"].min())/(df[\"latitude\"].max()-df[\"latitude\"].min()))\n",
        "df[\"longitude\"] = ((df[\"longitude\"]-df[\"longitude\"].min())/(df[\"longitude\"].max()-df[\"longitude\"].min()))"
      ],
      "execution_count": 0,
      "outputs": []
    },
    {
      "cell_type": "code",
      "metadata": {
        "id": "7-9C3NlRQGEw",
        "colab_type": "code",
        "colab": {}
      },
      "source": [
        "%matplotlib inline\n",
        "from matplotlib import pyplot as plt\n",
        "from sklearn.decomposition import PCA\n"
      ],
      "execution_count": 0,
      "outputs": []
    },
    {
      "cell_type": "code",
      "metadata": {
        "id": "bDCtGeJKFmZi",
        "colab_type": "code",
        "colab": {}
      },
      "source": [
        "def pca_on_column(col):\n",
        "  embeddings = model.encode(sentences=df[col], tokenize=True)\n",
        "  kmeans = KMeans(n_clusters=3)\n",
        "  kmeans.fit(embeddings)\n",
        "  y = kmeans.fit_predict(embeddings)\n",
        "\n",
        "  c1 = [x for idx, x in enumerate(df[col]) if y[idx] == 0]\n",
        "  c2 = [x for idx, x in enumerate(df[col]) if y[idx] == 1]\n",
        "  c3 = [x for idx, x in enumerate(df[col]) if y[idx] == 2]\n",
        "  print('Clusters Size:', len(c1), len(c2), len(c3))\n",
        "\n",
        "  pca = PCA(n_components=2)\n",
        "  principalComponents = pca.fit_transform(embeddings)\n",
        "\n",
        "  pca_df = pd.DataFrame.from_records(principalComponents, columns=['PC1', 'PC2'])\n",
        "  pca_df[col] = df[col]\n",
        "  pca_df['cluster'] = y\n",
        "  print(pca_df.head())\n",
        "\n",
        "  fig = plt.figure(figsize = (8,8))\n",
        "  ax = fig.add_subplot(1,1,1) \n",
        "  ax.set_xlabel('PC1', fontsize = 15)\n",
        "  ax.set_ylabel('PC2', fontsize = 15)\n",
        "  ax.set_title(f'{col.capitalize()} PCA', fontsize = 20)\n",
        "  targets = [0, 1, 2]\n",
        "  colors = ['r', 'g', 'b']\n",
        "\n",
        "  for target, color in zip(targets,colors):\n",
        "      indicesToKeep = pca_df['cluster'] == target\n",
        "      ax.scatter(pca_df.loc[indicesToKeep, 'PC1'], pca_df.loc[indicesToKeep, 'PC2'], c = color, s = 50)\n",
        "  ax.legend(targets)\n",
        "  ax.grid()\n",
        "\n",
        "  return pca_df\n",
        "\n"
      ],
      "execution_count": 0,
      "outputs": []
    },
    {
      "cell_type": "code",
      "metadata": {
        "id": "-Ho4tzWFQqP4",
        "colab_type": "code",
        "colab": {
          "base_uri": "https://localhost:8080/",
          "height": 642
        },
        "outputId": "31ddcf27-2620-4868-9f2b-d413dbc655ff"
      },
      "source": [
        "titles_df = pca_on_column('title')"
      ],
      "execution_count": 24,
      "outputs": [
        {
          "output_type": "stream",
          "text": [
            "Clusters Size: 25 26 32\n",
            "        PC1       PC2                title  cluster\n",
            "0 -0.866655  0.045772  Full-Stack Engineer        0\n",
            "1  0.524809 -0.690799    Software Engineer        2\n",
            "2  0.053078  0.314273     Backend Engineer        1\n",
            "3  0.777959  0.580108                  CTO        2\n",
            "4  0.524809 -0.690799    Software Engineer        2\n"
          ],
          "name": "stdout"
        },
        {
          "output_type": "display_data",
          "data": {
            "image/png": "[encoded data removed]",
            "text/plain": [
              "<Figure size 576x576 with 1 Axes>"
            ]
          },
          "metadata": {
            "tags": []
          }
        }
      ]
    },
    {
      "cell_type": "code",
      "metadata": {
        "id": "a1LV4OUlIxc6",
        "colab_type": "code",
        "outputId": "efe95962-e859-492b-a8e4-f273cbf78b3e",
        "colab": {
          "base_uri": "https://localhost:8080/",
          "height": 676
        }
      },
      "source": [
        "df['pitch'] = df['pitch'].fillna('')\n",
        "pitch_df = pca_on_column('pitch')\n"
      ],
      "execution_count": 34,
      "outputs": [
        {
          "output_type": "stream",
          "text": [
            "Clusters Size: 27 48 8\n",
            "        PC1  ...  cluster\n",
            "0  1.145969  ...        1\n",
            "1 -0.254795  ...        1\n",
            "2 -0.914760  ...        0\n",
            "3 -0.914760  ...        0\n",
            "4  3.529583  ...        2\n",
            "\n",
            "[5 rows x 4 columns]\n"
          ],
          "name": "stdout"
        },
        {
          "output_type": "display_data",
          "data": {
            "image/png": "[encoded data removed]",
            "text/plain": [
              "<Figure size 576x576 with 1 Axes>"
            ]
          },
          "metadata": {
            "tags": []
          }
        }
      ]
    },
    {
      "cell_type": "code",
      "metadata": {
        "id": "BRbnsiFpTK8Z",
        "colab_type": "code",
        "colab": {}
      },
      "source": [
        "embeddings = model.encode(sentences=descriptions, tokenize=True)\n",
        "kmeans = KMeans(n_clusters=3)\n",
        "kmeans.fit(embeddings)\n",
        "y = kmeans.fit_predict(embeddings)\n",
        "\n",
        "l1 = len([x for idx, x in enumerate(descriptions) if y[idx] == 0])\n",
        "l2 = len([x for idx, x in enumerate(descriptions) if y[idx] == 1])\n",
        "l3 = len([x for idx, x in enumerate(descriptions) if y[idx] == 2])\n",
        "\n",
        "l = [l1, l2, l3]\n",
        "i = l.index(max(l))\n",
        "desc_c = [x for idx, x in enumerate(descriptions) if y[idx] == i]\n"
      ],
      "execution_count": 0,
      "outputs": []
    },
    {
      "cell_type": "code",
      "metadata": {
        "id": "geOO3h7S0S-D",
        "colab_type": "code",
        "colab": {
          "base_uri": "https://localhost:8080/",
          "height": 676
        },
        "outputId": "51f06cdd-c7e5-4d85-95f3-953a00ae3dd6"
      },
      "source": [
        "new_descriptions = [[idx, word] for idx, sentence in enumerate(df.description) for word in sentence if word in desc_c]\n",
        "first_descriptions = [[x for x in new_descriptions if x[0] == i][0] for i in range(83)]\n",
        "df['firstDescription'] = [x[1] for x in first_descriptions]\n",
        "pca_firstDesc = pca_on_column('firstDescription')"
      ],
      "execution_count": 39,
      "outputs": [
        {
          "output_type": "stream",
          "text": [
            "Clusters Size: 40 9 34\n",
            "        PC1  ...  cluster\n",
            "0  0.034371  ...        2\n",
            "1  2.200183  ...        1\n",
            "2 -0.851402  ...        0\n",
            "3 -0.967403  ...        0\n",
            "4 -0.878603  ...        0\n",
            "\n",
            "[5 rows x 4 columns]\n"
          ],
          "name": "stdout"
        },
        {
          "output_type": "display_data",
          "data": {
            "image/png": "[encoded data removed]",
            "text/plain": [
              "<Figure size 576x576 with 1 Axes>"
            ]
          },
          "metadata": {
            "tags": []
          }
        }
      ]
    },
    {
      "cell_type": "code",
      "metadata": {
        "id": "0N6V2vaD6rOS",
        "colab_type": "code",
        "colab": {}
      },
      "source": [
        "df['full_description'] = ['. '.join(df.description[i]) for i in range(len(df))]\n",
        "with open('Data/tech.json') as json_file: tech = json.load(json_file)"
      ],
      "execution_count": 0,
      "outputs": []
    },
    {
      "cell_type": "code",
      "metadata": {
        "id": "eDdUTT99U9OU",
        "colab_type": "code",
        "colab": {
          "base_uri": "https://localhost:8080/",
          "height": 34
        },
        "outputId": "99702b5e-2515-4354-c98c-81ca75bb7741"
      },
      "source": [
        "import re\n",
        "tech_count = [[len([m.start() for m in re.finditer(tech[i].lower(), df.full_description[j].lower())]) for i in range(len(tech))] for j in range(len(df))]\n",
        "tech_count = np.array(tech_count)\n",
        "pca = PCA(n_components=5)\n",
        "tech_count = pca.fit_transform(tech_count)"
      ],
      "execution_count": 42,
      "outputs": [
        {
          "output_type": "execute_result",
          "data": {
            "text/plain": [
              "[591, 1132, 2247]"
            ]
          },
          "metadata": {
            "tags": []
          },
          "execution_count": 42
        }
      ]
    },
    {
      "cell_type": "code",
      "metadata": {
        "id": "lZAkyHxgAYFj",
        "colab_type": "code",
        "colab": {}
      },
      "source": [
        "def plot_with_pca(data):\n",
        "  kmeans = KMeans(n_clusters=3)\n",
        "  kmeans.fit(data)\n",
        "  y = kmeans.fit_predict(data)\n",
        "\n",
        "  c1 = [x for idx, x in enumerate(data) if y[idx] == 0]\n",
        "  c2 = [x for idx, x in enumerate(data) if y[idx] == 1]\n",
        "  c3 = [x for idx, x in enumerate(data) if y[idx] == 2]\n",
        "  print('Clusters Size:', len(c1), len(c2), len(c3))\n",
        "\n",
        "  pca = PCA(n_components=2)\n",
        "  principalComponents = pca.fit_transform(data)\n",
        "\n",
        "  pca_df = pd.DataFrame.from_records(principalComponents, columns=['PC1', 'PC2'])\n",
        "  pca_df['cluster'] = y\n",
        "  print(pca_df.head())\n",
        "\n",
        "  fig = plt.figure(figsize = (8,8))\n",
        "  ax = fig.add_subplot(1,1,1) \n",
        "  ax.set_xlabel('PC1', fontsize = 15)\n",
        "  ax.set_ylabel('PC2', fontsize = 15)\n",
        "  ax.set_title('PCA', fontsize = 20)\n",
        "  targets = [0, 1, 2]\n",
        "  colors = ['r', 'g', 'b']\n",
        "\n",
        "  for target, color in zip(targets,colors):\n",
        "      indicesToKeep = pca_df['cluster'] == target\n",
        "      ax.scatter(pca_df.loc[indicesToKeep, 'PC1'], pca_df.loc[indicesToKeep, 'PC2'], c = color, s = 50)\n",
        "  ax.legend(targets)\n",
        "  ax.grid()\n",
        "\n",
        "  return pca_df"
      ],
      "execution_count": 0,
      "outputs": []
    },
    {
      "cell_type": "code",
      "metadata": {
        "id": "Vc0dYWF2AdeT",
        "colab_type": "code",
        "outputId": "6b61856e-42b4-4bce-9b7f-d6eba61babd9",
        "colab": {
          "base_uri": "https://localhost:8080/",
          "height": 1000
        }
      },
      "source": [
        "plot_with_pca(tech_count)"
      ],
      "execution_count": 74,
      "outputs": [
        {
          "output_type": "stream",
          "text": [
            "Clusters Size: 49 15 19\n",
            "        PC1       PC2  cluster\n",
            "0  1.762547  3.161378        2\n",
            "1  6.328483 -2.808903        1\n",
            "2 -3.409240  0.815153        0\n",
            "3 -1.390099  0.402187        0\n",
            "4 -1.937451 -0.164510        0\n"
          ],
          "name": "stdout"
        },
        {
          "output_type": "execute_result",
          "data": {
            "text/html": [
              "<div>\n",
              "<style scoped>\n",
              "    .dataframe tbody tr th:only-of-type {\n",
              "        vertical-align: middle;\n",
              "    }\n",
              "\n",
              "    .dataframe tbody tr th {\n",
              "        vertical-align: top;\n",
              "    }\n",
              "\n",
              "    .dataframe thead th {\n",
              "        text-align: right;\n",
              "    }\n",
              "</style>\n",
              "<table border=\"1\" class=\"dataframe\">\n",
              "  <thead>\n",
              "    <tr style=\"text-align: right;\">\n",
              "      <th></th>\n",
              "      <th>PC1</th>\n",
              "      <th>PC2</th>\n",
              "      <th>cluster</th>\n",
              "    </tr>\n",
              "  </thead>\n",
              "  <tbody>\n",
              "    <tr>\n",
              "      <th>0</th>\n",
              "      <td>1.762547</td>\n",
              "      <td>3.161378</td>\n",
              "      <td>2</td>\n",
              "    </tr>\n",
              "    <tr>\n",
              "      <th>1</th>\n",
              "      <td>6.328483</td>\n",
              "      <td>-2.808903</td>\n",
              "      <td>1</td>\n",
              "    </tr>\n",
              "    <tr>\n",
              "      <th>2</th>\n",
              "      <td>-3.409240</td>\n",
              "      <td>0.815153</td>\n",
              "      <td>0</td>\n",
              "    </tr>\n",
              "    <tr>\n",
              "      <th>3</th>\n",
              "      <td>-1.390099</td>\n",
              "      <td>0.402187</td>\n",
              "      <td>0</td>\n",
              "    </tr>\n",
              "    <tr>\n",
              "      <th>4</th>\n",
              "      <td>-1.937451</td>\n",
              "      <td>-0.164510</td>\n",
              "      <td>0</td>\n",
              "    </tr>\n",
              "    <tr>\n",
              "      <th>...</th>\n",
              "      <td>...</td>\n",
              "      <td>...</td>\n",
              "      <td>...</td>\n",
              "    </tr>\n",
              "    <tr>\n",
              "      <th>78</th>\n",
              "      <td>-2.927710</td>\n",
              "      <td>-1.143118</td>\n",
              "      <td>0</td>\n",
              "    </tr>\n",
              "    <tr>\n",
              "      <th>79</th>\n",
              "      <td>-0.153674</td>\n",
              "      <td>-1.717748</td>\n",
              "      <td>0</td>\n",
              "    </tr>\n",
              "    <tr>\n",
              "      <th>80</th>\n",
              "      <td>4.447345</td>\n",
              "      <td>-1.875318</td>\n",
              "      <td>1</td>\n",
              "    </tr>\n",
              "    <tr>\n",
              "      <th>81</th>\n",
              "      <td>-2.125442</td>\n",
              "      <td>-0.607671</td>\n",
              "      <td>0</td>\n",
              "    </tr>\n",
              "    <tr>\n",
              "      <th>82</th>\n",
              "      <td>6.328483</td>\n",
              "      <td>-2.808903</td>\n",
              "      <td>1</td>\n",
              "    </tr>\n",
              "  </tbody>\n",
              "</table>\n",
              "<p>83 rows × 3 columns</p>\n",
              "</div>"
            ],
            "text/plain": [
              "         PC1       PC2  cluster\n",
              "0   1.762547  3.161378        2\n",
              "1   6.328483 -2.808903        1\n",
              "2  -3.409240  0.815153        0\n",
              "3  -1.390099  0.402187        0\n",
              "4  -1.937451 -0.164510        0\n",
              "..       ...       ...      ...\n",
              "78 -2.927710 -1.143118        0\n",
              "79 -0.153674 -1.717748        0\n",
              "80  4.447345 -1.875318        1\n",
              "81 -2.125442 -0.607671        0\n",
              "82  6.328483 -2.808903        1\n",
              "\n",
              "[83 rows x 3 columns]"
            ]
          },
          "metadata": {
            "tags": []
          },
          "execution_count": 74
        },
        {
          "output_type": "display_data",
          "data": {
            "image/png": "[encoded data removed]",
            "text/plain": [
              "<Figure size 576x576 with 1 Axes>"
            ]
          },
          "metadata": {
            "tags": []
          }
        }
      ]
    },
    {
      "cell_type": "code",
      "metadata": {
        "id": "tmRIXIZpFvwZ",
        "colab_type": "code",
        "colab": {}
      },
      "source": [
        ""
      ],
      "execution_count": 0,
      "outputs": []
    }
  ]
}